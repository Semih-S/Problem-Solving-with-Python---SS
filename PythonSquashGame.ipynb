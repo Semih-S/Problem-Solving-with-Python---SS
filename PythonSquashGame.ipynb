{
 "cells": [
  {
   "cell_type": "code",
   "execution_count": 1,
   "metadata": {},
   "outputs": [],
   "source": [
    "# You may add additional imports here\n",
    "import random\n",
    "import matplotlib.pyplot as plt\n",
    "import csv"
   ]
  },
  {
   "cell_type": "markdown",
   "metadata": {},
   "source": [
    "Question 1\n",
    "==========\n",
    "\n",
    "All parts of Question 1 use the _point-a-rally (PARS) scoring_ system.\n",
    "\n",
    "**Question 1a:** Complete the following function so that it implements the PARS algorithm from the coursework specification.\n",
    "\n",
    "**[Functionality: 7 marks]**"
   ]
  },
  {
   "cell_type": "code",
   "execution_count": 2,
   "metadata": {},
   "outputs": [],
   "source": [
    "def game(ra, rb):\n",
    "    A_score = 0 \n",
    "    B_score = 0\n",
    "    Probability_A = ra / (ra + rb)\n",
    "    x = False\n",
    "    while x == False:\n",
    "        r = random.random()\n",
    "        if r < Probability_A:\n",
    "            A_score = A_score + 1\n",
    "            if (A_score >= 11 and A_score - B_score >= 2):\n",
    "                return (A_score, B_score)\n",
    "            elif (B_score >= 11 and B_score - A_score >= 2):\n",
    "                return (A_score, B_score)\n",
    "            else:\n",
    "                x = False  \n",
    "        else:\n",
    "            B_score = B_score + 1\n",
    "            if (A_score >= 11 and A_score - B_score >= 2):\n",
    "                return (A_score, B_score)\n",
    "            elif (B_score >= 11 and B_score - A_score >= 2):\n",
    "                return (A_score, B_score)\n",
    "            else:\n",
    "                x = False"
   ]
  },
  {
   "cell_type": "markdown",
   "metadata": {},
   "source": [
    "**Testing:** If the random seed is set to 57, then calling the function with arguments `70` and `30` should return `(11,5)`."
   ]
  },
  {
   "cell_type": "markdown",
   "metadata": {},
   "source": []
  },
  {
   "cell_type": "code",
   "execution_count": 3,
   "metadata": {},
   "outputs": [
    {
     "name": "stdout",
     "output_type": "stream",
     "text": [
      "(11, 5)\n"
     ]
    }
   ],
   "source": [
    "random.seed(57)\n",
    "print(game(70, 30))"
   ]
  },
  {
   "cell_type": "markdown",
   "metadata": {},
   "source": [
    "**Question 1b:** Complete the following function `win_probability_game(ra, rb, simulations)` to simulate `simulations` games in order to estimate the probability that a player with ability `ra` will win a game against a player of ability `rb`.\n",
    "\n",
    "**[Functionality: 4 marks]**"
   ]
  },
  {
   "cell_type": "code",
   "execution_count": 4,
   "metadata": {},
   "outputs": [],
   "source": [
    "def win_probability_game(ra, rb, simulations=1000):\n",
    "    Win_A = 0\n",
    "    Win_B = 0\n",
    "    for i in range(0,simulations):\n",
    "        single_simulation = game(ra, rb)\n",
    "        if single_simulation[0] > single_simulation[1]:\n",
    "            Win_A = Win_A + 1\n",
    "        else:\n",
    "            Win_B = Win_B + 1\n",
    "    return(Win_A / (Win_A + Win_B))\n"
   ]
  },
  {
   "cell_type": "markdown",
   "metadata": {},
   "source": [
    "**Testing:** Given sufficient simulations, calling the function with abilities `70` and `30` should give the answer `0.98` when printed to 2 decimal places."
   ]
  },
  {
   "cell_type": "code",
   "execution_count": 5,
   "metadata": {},
   "outputs": [
    {
     "name": "stdout",
     "output_type": "stream",
     "text": [
      "0.98\n"
     ]
    }
   ],
   "source": [
    "\n",
    "random.seed(57)\n",
    "print(round(win_probability_game(70, 30), 2))\n"
   ]
  },
  {
   "cell_type": "markdown",
   "metadata": {},
   "source": [
    "**Question 1c:** Assume players abilities are given in a csv file with the format:\n",
    "```\n",
    "player a ability, player b ability,\n",
    "60, 20,\n",
    "100, 55,\n",
    "50, 40,\n",
    "20, 70,\n",
    "95, 85,\n",
    "```\n",
    "Complete the following function to read in a specified csv file of this format and return a `list` of `tuple`s containing each pair of abilities.\n",
    "\n",
    "**[Functionality: 4 marks]**"
   ]
  },
  {
   "cell_type": "code",
   "execution_count": 6,
   "metadata": {},
   "outputs": [],
   "source": [
    "def read_abilities(csv_file):\n",
    "    with open(csv_file, 'r') as file:\n",
    "        csvfile = csv.reader(file)\n",
    "        next(csvfile)\n",
    "        new_list = []\n",
    "        for row in csvfile:\n",
    "            x = tuple((int(row[0]),int(row[1])))\n",
    "            new_list.append(x)\n",
    "        return new_list"
   ]
  },
  {
   "cell_type": "markdown",
   "metadata": {},
   "source": [
    "**Testing:** Calling the function to read the file `test.csv` from Learning Central should return `[(60, 20), (100, 55), (50, 40), (20, 70), (95, 85)]`"
   ]
  },
  {
   "cell_type": "code",
   "execution_count": 7,
   "metadata": {},
   "outputs": [
    {
     "data": {
      "text/plain": [
       "[(60, 20), (100, 55), (50, 40), (20, 70), (95, 85)]"
      ]
     },
     "execution_count": 7,
     "metadata": {},
     "output_type": "execute_result"
    }
   ],
   "source": [
    "# Print the result of calling the function for the file `test.csv`\n",
    "read_abilities(\"test.csv\")"
   ]
  },
  {
   "cell_type": "markdown",
   "metadata": {},
   "source": [
    "**Question 1d:** Write a function that takes a `list` of the format returned by your answer to 1c as an argument, and uses `matplotlib` to produce a plot (with labelled axes) showing the probability that player a beats player b (in a game) against `ra / r_b` for each pair.\n",
    "\n",
    "**[Functionality: 5 marks]**"
   ]
  },
  {
   "cell_type": "code",
   "execution_count": 8,
   "metadata": {},
   "outputs": [],
   "source": [
    "\n",
    "def plot_win_probabilities(reading_list):\n",
    "    lst_a_wins = []\n",
    "    lst_rarb_total = []\n",
    "    for i in range(len(reading_list)):\n",
    "        ra = (reading_list[i])[0]\n",
    "        rb = (reading_list[i])[1]\n",
    "        total = ra/rb\n",
    "        probability_a_wins = (round(win_probability_game(ra, rb), 2))\n",
    "        lst_a_wins.append(probability_a_wins)\n",
    "        lst_rarb_total.append(total)     \n",
    "    plt.plot(lst_rarb_total, lst_a_wins,  'bo')\n",
    "    plt.axis([0, 3.0, 0, 1.0])\n",
    "    plt.xlabel(\"ra/rb\")\n",
    "    plt.ylabel(\"probability a wins\")\n",
    "    plt.show()"
   ]
  },
  {
   "cell_type": "markdown",
   "metadata": {},
   "source": [
    "**Testing:** The following figure (or similar) should result from the data `[(60, 20), (100, 55), (50, 40), (20, 70), (95, 85)]'\n",
    "\n",
    "<img src=\"./win_probabilities.png\" alt=\"Win probabilities\" width=\"500\">\n"
   ]
  },
  {
   "cell_type": "code",
   "execution_count": 9,
   "metadata": {},
   "outputs": [
    {
     "data": {
      "image/png": "[encoded data removed]",
      "text/plain": [
       "<Figure size 640x480 with 1 Axes>"
      ]
     },
     "metadata": {},
     "output_type": "display_data"
    }
   ],
   "source": [
    "# Call the function to plot the figure here\n",
    "plot_win_probabilities(read_abilities(\"test.csv\"))"
   ]
  },
  {
   "cell_type": "markdown",
   "metadata": {},
   "source": [
    "**Question 1e:** Complete the following function `win_probability_match(ra, rb, simulations, m)` to simulate `simulations` matches which are won by the first player to win `m` games, and returns an estimate of the probability that a player with ability `ra` will win such a match against a player of ability `rb`.\n",
    "\n",
    "Provide code that works out the smallest value of `m` such that `win_probability_match(60, 40, simulations, m)` is at least `0.9`. \n",
    "\n",
    "_HINT: make sure you use an appropriate value for `simulations`._\n",
    "\n",
    "**[Functionality: 5 marks]**"
   ]
  },
  {
   "cell_type": "code",
   "execution_count": 10,
   "metadata": {},
   "outputs": [],
   "source": [
    "def match(ra, rb, m):\n",
    "    #Scoreboard for matches [player_A, player_B, total_matches]\n",
    "    played_m = [0, 0, 0]\n",
    "    #while loop that checks if any player reached the winning number of matches and if not increments one player's score randomly\n",
    "    while played_m[0] < m and played_m[1] < m:\n",
    "        single_simulation = game(ra, rb)\n",
    "        if single_simulation[0] > single_simulation[1]:\n",
    "            played_m[0] = played_m[0] + 1\n",
    "            played_m[2] = played_m[2] + 1\n",
    "        else:\n",
    "            played_m[1] = played_m[1] + 1\n",
    "            played_m[2] = played_m[2] + 1\n",
    "    return(played_m[0], played_m[1], played_m[2])"
   ]
  },
  {
   "cell_type": "code",
   "execution_count": 11,
   "metadata": {},
   "outputs": [
    {
     "name": "stdout",
     "output_type": "stream",
     "text": [
      "2\n"
     ]
    }
   ],
   "source": [
    "def win_probability_match(ra, rb, simulations, m):\n",
    "    expected_win_A = 0\n",
    "    expected_win_B = 0\n",
    "    total_matches = 0\n",
    "    for i in range(0, simulations):\n",
    "        match_1 = match(ra, rb, m)\n",
    "        if match_1[0] > match_1[1]:\n",
    "            expected_win_A = expected_win_A + 1\n",
    "            total_matches = total_matches + 1\n",
    "        elif match_1[1] > match_1[0]:\n",
    "            expected_win_B = expected_win_B + 1\n",
    "            total_matches = total_matches + 1\n",
    "        else: \n",
    "            total_matches = total_matches + 1\n",
    "    return (expected_win_A / (expected_win_B + expected_win_A))\n",
    "\n",
    "\n",
    "ans = 0\n",
    "matches_for_smallest_value_of_m = 1\n",
    "while ans < 0.9:\n",
    "    ans = win_probability_match(60, 40, 10000, matches_for_smallest_value_of_m)\n",
    "    matches_for_smallest_value_of_m = matches_for_smallest_value_of_m + 1\n",
    "print (matches_for_smallest_value_of_m - 1)\n",
    "\n"
   ]
  },
  {
   "cell_type": "markdown",
   "metadata": {},
   "source": [
    "Question 2\n",
    "==========\n",
    "\n",
    "Complete the remaining template of a scientific report that uses the results of simulation (with suitable input data) to investigate whether English or PARS is the ``better'' scoring method for squash matches. \n",
    "\n",
    "You should clearly state any assumptions you make, and may add any number of code cells. Guidance for completing the markdown/text cells is given in the coursework specification. The word count of the remaining markdown/text cells must be at most 750.\n",
    "\n",
    "Your investigation should consider the relative ability of the two players (i.e. `ra/rb`) as the _independent variable_ and include appropriate figures that show how your choice of relevant _dependent variable_ varies. Your results **must** cover at least 50 different values of `ra/rb`.\n",
    "\n",
    "Some starting points you may consider:\n",
    "- How _fair_ is the scoring method - does the better player usually win?\n",
    "- Shorter matches are usually preferable (e.g. for television) - if you assume each rally in a match takes equal time, how long do matches typically last?\n",
    "- What effect does the relative ability of the two players have?\n",
    "\n",
    "**[Report: 7 marks; Achievement: 8 marks]**"
   ]
  },
  {
   "cell_type": "code",
   "execution_count": 12,
   "metadata": {},
   "outputs": [],
   "source": [
    "def game_eng(ra, rb):\n",
    "    A_score = 0 \n",
    "    B_score = 0\n",
    "    round_win_A = 0\n",
    "    round_win_B = 0\n",
    "    Probability_A = ra / (ra + rb)\n",
    "    ra_position = \"server\"\n",
    "    winning_score = 9\n",
    "    minimum_passing_score = 8\n",
    "    choice_of_random = random.random()\n",
    "    while not(A_score == winning_score) and not(B_score == winning_score):\n",
    "        if (A_score == 8 and B_score == 8) and choice_of_random < 0.5:\n",
    "            minimum_passing_score = 100\n",
    "            winning_score = 9\n",
    "            r = random.random()\n",
    "            if ra_position == \"server\":\n",
    "                if r < Probability_A: \n",
    "                    A_score = A_score + 1\n",
    "                    round_win_A = round_win_A + 1\n",
    "                else:\n",
    "                    ra_position = \"returner\"\n",
    "                    round_win_B = round_win_B + 1\n",
    "            else:\n",
    "                if r < Probability_A: \n",
    "                    ra_position = \"server\"\n",
    "                    round_win_A = round_win_A + 1\n",
    "                else:\n",
    "                    B_score = B_score + 1\n",
    "                    round_win_B = round_win_B + 1\n",
    "        elif (A_score == 8 and B_score == 8) and choice_of_random >= 0.5:\n",
    "            minimum_passing_score = 100\n",
    "            winning_score = 10\n",
    "            r = random.random()\n",
    "            if ra_position == \"server\":\n",
    "                if r < Probability_A: \n",
    "                    A_score = A_score + 1\n",
    "                    round_win_A = round_win_A + 1\n",
    "                else:\n",
    "                    ra_position = \"returner\"\n",
    "                    \n",
    "                    round_win_B = round_win_B + 1\n",
    "            else:\n",
    "                if r < Probability_A: \n",
    "                    ra_position = \"server\"\n",
    "                    round_win_A = round_win_A + 1\n",
    "                else:\n",
    "                    B_score = B_score + 1\n",
    "                    round_win_B = round_win_B + 1\n",
    "        else:\n",
    "            r = random.random()\n",
    "            if ra_position == \"server\":\n",
    "                if r < Probability_A: \n",
    "                    A_score = A_score + 1\n",
    "                    round_win_A = round_win_A + 1\n",
    "                else:\n",
    "                    ra_position = \"returner\"\n",
    "                    round_win_B = round_win_B + 1\n",
    "            else:\n",
    "                if r < Probability_A: \n",
    "                    ra_position = \"server\"\n",
    "                    round_win_A = round_win_A + 1\n",
    "                else:\n",
    "                    B_score = B_score + 1\n",
    "                    round_win_B = round_win_B + 1\n",
    "    return(A_score, B_score, round_win_A + round_win_B)\n",
    "\n",
    "\n",
    "\n"
   ]
  },
  {
   "cell_type": "code",
   "execution_count": 13,
   "metadata": {},
   "outputs": [],
   "source": [
    "def game_pars(ra, rb):\n",
    "    A_score = 0 \n",
    "    B_score = 0\n",
    "    Probability_A = ra / (ra + rb)\n",
    "    x = False\n",
    "    while x == False:\n",
    "        r = random.random()\n",
    "        if r < Probability_A:\n",
    "            A_score = A_score + 1\n",
    "            if (A_score >= 11 and A_score - B_score >= 2):\n",
    "                return (A_score, B_score, A_score + B_score)\n",
    "            elif (B_score >= 11 and B_score - A_score >= 2):\n",
    "                return (A_score, B_score, A_score + B_score)\n",
    "            else:\n",
    "                x = False  \n",
    "        else:\n",
    "            B_score = B_score + 1\n",
    "            if (A_score >= 11 and A_score - B_score >= 2):\n",
    "                return (A_score, B_score, A_score + B_score)\n",
    "            elif (B_score >= 11 and B_score - A_score >= 2):\n",
    "                return (A_score, B_score, A_score + B_score)\n",
    "            else:\n",
    "                x = False\n",
    "\n"
   ]
  },
  {
   "cell_type": "code",
   "execution_count": 14,
   "metadata": {},
   "outputs": [],
   "source": [
    "#Calculating game avarage for pars\n",
    "def game_avr_pars(avg, ra, rb):\n",
    "    avarage_val = 0\n",
    "    for x in range(0, avg):\n",
    "        avarage_val = avarage_val + (game_pars(ra, rb)[2])\n",
    "    return round((avarage_val/avg), 1)\n"
   ]
  },
  {
   "cell_type": "code",
   "execution_count": 15,
   "metadata": {},
   "outputs": [],
   "source": [
    "#Calculating game avarage for english\n",
    "def game_avr_eng(avg, ra, rb):\n",
    "    avarage_val = 0\n",
    "    for x in range(0, avg):\n",
    "        avarage_val = avarage_val + (game_eng(ra, rb)[2])\n",
    "    return round((avarage_val/avg), 1)\n"
   ]
  },
  {
   "cell_type": "code",
   "execution_count": 16,
   "metadata": {},
   "outputs": [],
   "source": [
    "def avg_ra_wins_eng(ra, rb, avg=20000):\n",
    "    ra_wins = 0\n",
    "    rb_wins = 0\n",
    "    for i in range(0, avg):\n",
    "        single_game = game_eng(ra, rb)\n",
    "        if single_game[0] > single_game[1]:\n",
    "            ra_wins = ra_wins + 1\n",
    "        else:\n",
    "            rb_wins = rb_wins + 1\n",
    "    return ra_wins / (ra_wins + rb_wins)\n",
    "\n",
    "          "
   ]
  },
  {
   "cell_type": "code",
   "execution_count": 17,
   "metadata": {},
   "outputs": [],
   "source": [
    "def avg_ra_wins_pars(ra, rb, avg=20000):\n",
    "    ra_wins = 0\n",
    "    rb_wins = 0\n",
    "    for i in range(0, avg):\n",
    "        single_game = game_pars(ra, rb)\n",
    "        if single_game[0] > single_game[1]:\n",
    "            ra_wins = ra_wins + 1\n",
    "        else:\n",
    "            rb_wins = rb_wins + 1\n",
    "    return ra_wins / (ra_wins + rb_wins)\n",
    "\n"
   ]
  },
  {
   "attachments": {},
   "cell_type": "markdown",
   "metadata": {},
   "source": [
    "SCIENTIFIC REPORT FOR SQUASH SCORING METHODS ENGLISH AND PARS"
   ]
  },
  {
   "cell_type": "markdown",
   "metadata": {},
   "source": [
    "## Problem"
   ]
  },
  {
   "attachments": {},
   "cell_type": "markdown",
   "metadata": {},
   "source": [
    "There are two popular scoring methods for squash games one being English scoring while the other being Pars (Point-a-rally scoring). And for both of these scoring methods, there are different problems. I am going to investigate whether Pars or English scoring is the better scoring. I am going to use two different parameters to check the better scoring one being the fairness of the scoring and the other being length of an actual match. I will be increasing the probability of one player to see if the better player wins with a higher probability and how will this affect the average time. I expect a better player to win with a high probability while time will increase."
   ]
  },
  {
   "cell_type": "markdown",
   "metadata": {},
   "source": [
    "## Method"
   ]
  },
  {
   "attachments": {},
   "cell_type": "markdown",
   "metadata": {},
   "source": [
    "I will be running two simulations one for investigating the fairness of scoring by comparing the probability of a player winning the game by looking at average wins that increase with each step compared with an ability of that over the total ability of two players. And the other simulation will be about the average game played with the increasing ability of one player. I will measure the ability of both players from the range 0 to 100 for both simulations. And there will be 20000 simulations for all scoring methods and simulations which will help me get more accurate results and graphs."
   ]
  },
  {
   "cell_type": "markdown",
   "metadata": {},
   "source": [
    "## Assumptions"
   ]
  },
  {
   "attachments": {},
   "cell_type": "markdown",
   "metadata": {},
   "source": [
    "Before starting to get the results and graphs I first assumed that players do not have any mood changes before or in the game and two players have the same mood. And I have also assumed that each match that is simulated takes the same time. I have made these assumptions since they are harder to measure."
   ]
  },
  {
   "cell_type": "markdown",
   "metadata": {},
   "source": [
    "## Results"
   ]
  },
  {
   "cell_type": "code",
   "execution_count": 18,
   "metadata": {},
   "outputs": [
    {
     "data": {
      "image/png": "[encoded data removed]",
      "text/plain": [
       "<Figure size 640x480 with 1 Axes>"
      ]
     },
     "metadata": {},
     "output_type": "display_data"
    }
   ],
   "source": [
    "# Avarage wins of ra over (ra + rb) takes some time to load\n",
    "list_of_avg_ra_wins_eng = []\n",
    "list_of_avg_ra_wins_pars = []\n",
    "list_of_ra_pars_and_eng = []\n",
    "for i in range(0, 100):\n",
    "    list_of_avg_ra_wins_eng.append(avg_ra_wins_eng(0 + i, 100 - i))\n",
    "    list_of_avg_ra_wins_pars.append(avg_ra_wins_pars(0 + i, 100 - i))\n",
    "    list_of_ra_pars_and_eng.append((0 + i) / ((0 + i) + (100 - i)))\n",
    "\n",
    "plt.plot(list_of_ra_pars_and_eng, list_of_avg_ra_wins_eng, color='g', label='English')   \n",
    "plt.plot(list_of_ra_pars_and_eng, list_of_avg_ra_wins_pars,  color='m', label='PARS')   \n",
    "plt.xlabel(\"ra / (ra + rb)\")\n",
    "plt.ylabel(\"PARS and English avarage wins of player with ra rating\")\n",
    "plt.legend()\n",
    "plt.show()"
   ]
  },
  {
   "cell_type": "code",
   "execution_count": 19,
   "metadata": {},
   "outputs": [
    {
     "data": {
      "image/png": "[encoded data removed]",
      "text/plain": [
       "<Figure size 640x480 with 1 Axes>"
      ]
     },
     "metadata": {},
     "output_type": "display_data"
    }
   ],
   "source": [
    "# Avarage time taken for each scoring takes some time to load\n",
    "list_for_pars_avg = []\n",
    "list_for_eng_avg = []\n",
    "list_for_ra_pars_and_eng = []\n",
    "\n",
    "for i in range(0, 100):\n",
    "    list_for_pars_avg.append(game_avr_pars(20000, 0 + i, 100 - i))\n",
    "    list_for_eng_avg.append(game_avr_eng(20000, 0 + i, 100 - i))\n",
    "    list_for_ra_pars_and_eng.append((0 + i) / ((0 + i) + (100 - i)))\n",
    "\n",
    "plt.plot(list_for_ra_pars_and_eng, list_for_pars_avg, color='r', label='PARS')   \n",
    "plt.plot(list_for_ra_pars_and_eng, list_for_eng_avg, color='b', label='English')   \n",
    "plt.xlabel(\"ra / (ra + rb)\")\n",
    "plt.ylabel(\"PARS and English avarage game played\")\n",
    "plt.legend()\n",
    "plt.show()\n"
   ]
  },
  {
   "attachments": {},
   "cell_type": "markdown",
   "metadata": {},
   "source": [
    "The results show that English scoring is slightly better compared to PARS for rewarding the player with higher ability, while PARS scoring is shorter compared to English."
   ]
  },
  {
   "cell_type": "markdown",
   "metadata": {},
   "source": [
    "## Conclusions"
   ]
  },
  {
   "attachments": {},
   "cell_type": "markdown",
   "metadata": {},
   "source": [
    "To play shorter matches (for TV or in crowded stadiums) the players need to agree on the PARS scoring method so that spectators will not be bored with long matches. To play better-scored matches players need to agree on English scoring since it gives a better idea of who the player with better ability could be used for tournaments since it is fairer. Overall English scoring would be preferred for professional players since it is a better choice for players with higher rankings."
   ]
  }
 ],
 "metadata": {
  "kernelspec": {
   "display_name": "Python 3",
   "language": "python",
   "name": "python3"
  },
  "language_info": {
   "codemirror_mode": {
    "name": "ipython",
    "version": 3
   },
   "file_extension": ".py",
   "mimetype": "text/x-python",
   "name": "python",
   "nbconvert_exporter": "python",
   "pygments_lexer": "ipython3",
   "version": "3.9.13"
  },
  "vscode": {
   "interpreter": {
    "hash": "e46a95a7e98eec27f19f3505e3c5021d630bc5f34cfbaa23953c8e779fdb2345"
   }
  }
 },
 "nbformat": 4,
 "nbformat_minor": 2
}
